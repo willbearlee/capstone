{
    "nbformat_minor": 1, 
    "cells": [
        {
            "execution_count": 1, 
            "cell_type": "code", 
            "metadata": {}, 
            "outputs": [], 
            "source": "from bs4 import BeautifulSoup\nimport requests\nimport numpy as np\nimport pandas as pd"
        }, 
        {
            "source": "### Get information from Wiki", 
            "cell_type": "markdown", 
            "metadata": {}
        }, 
        {
            "execution_count": 2, 
            "cell_type": "code", 
            "metadata": {}, 
            "outputs": [], 
            "source": "source = requests.get('https://en.wikipedia.org/wiki/List_of_postal_codes_of_Canada:_M').text   \nsoup = BeautifulSoup(source, 'html.parser')"
        }, 
        {
            "execution_count": 3, 
            "cell_type": "code", 
            "metadata": {}, 
            "outputs": [], 
            "source": "PostalCodeList = []\nBoroughList = []\nNeighborhoodList = []\ntbody = soup.find('tbody')"
        }, 
        {
            "source": "### Collect the Data", 
            "cell_type": "markdown", 
            "metadata": {}
        }, 
        {
            "execution_count": 4, 
            "cell_type": "code", 
            "metadata": {}, 
            "outputs": [], 
            "source": "for index, value in enumerate(tbody.find_all('td')):\n    if (index%3 == 0):\n        PostalCodeList.append(value.text.strip())\n    elif(index%3 == 1):\n        BoroughList.append(value.text.strip())\n    else:\n        NeighborhoodList.append(value.text.strip())\ndataDic = { \"PostalCode\":PostalCodeList, \"Borough\":BoroughList, \"Neighborhood\": NeighborhoodList }"
        }, 
        {
            "source": "### Translate to DataFrame", 
            "cell_type": "markdown", 
            "metadata": {}
        }, 
        {
            "execution_count": 5, 
            "cell_type": "code", 
            "metadata": {}, 
            "outputs": [
                {
                    "output_type": "stream", 
                    "name": "stdout", 
                    "text": "            Borough      Neighborhood PostalCode\n0      Not assigned      Not assigned        M1A\n1      Not assigned      Not assigned        M2A\n2        North York         Parkwoods        M3A\n3        North York  Victoria Village        M4A\n4  Downtown Toronto      Harbourfront        M5A\n"
                }
            ], 
            "source": "df = pd.DataFrame.from_dict(dataDic)\nprint( df.head() )"
        }, 
        {
            "source": "### Remove column if Boroug is \"Not assigned\"", 
            "cell_type": "markdown", 
            "metadata": {}
        }, 
        {
            "execution_count": 6, 
            "cell_type": "code", 
            "metadata": {}, 
            "outputs": [
                {
                    "output_type": "stream", 
                    "name": "stdout", 
                    "text": "            Borough      Neighborhood PostalCode\n0        North York         Parkwoods        M3A\n1        North York  Victoria Village        M4A\n2  Downtown Toronto      Harbourfront        M5A\n3  Downtown Toronto       Regent Park        M5A\n4        North York  Lawrence Heights        M6A\n"
                }
            ], 
            "source": "df = df[df.Borough != 'Not assigned']\ndf.reset_index(drop=True, inplace=True)\nprint( df.head() )"
        }, 
        {
            "execution_count": 13, 
            "cell_type": "code", 
            "metadata": {}, 
            "outputs": [
                {
                    "execution_count": 13, 
                    "metadata": {}, 
                    "data": {
                        "text/html": "<div>\n<style scoped>\n    .dataframe tbody tr th:only-of-type {\n        vertical-align: middle;\n    }\n\n    .dataframe tbody tr th {\n        vertical-align: top;\n    }\n\n    .dataframe thead th {\n        text-align: right;\n    }\n</style>\n<table border=\"1\" class=\"dataframe\">\n  <thead>\n    <tr style=\"text-align: right;\">\n      <th></th>\n      <th>Borough</th>\n      <th>Neighborhood</th>\n      <th>PostalCode</th>\n    </tr>\n  </thead>\n  <tbody>\n    <tr>\n      <th>0</th>\n      <td>Scarborough</td>\n      <td>Rouge,Malvern</td>\n      <td>M1B</td>\n    </tr>\n    <tr>\n      <th>1</th>\n      <td>Scarborough</td>\n      <td>Highland Creek,Rouge Hill,Port Union</td>\n      <td>M1C</td>\n    </tr>\n    <tr>\n      <th>2</th>\n      <td>Scarborough</td>\n      <td>Guildwood,Morningside,West Hill</td>\n      <td>M1E</td>\n    </tr>\n    <tr>\n      <th>3</th>\n      <td>Scarborough</td>\n      <td>Woburn</td>\n      <td>M1G</td>\n    </tr>\n    <tr>\n      <th>4</th>\n      <td>Scarborough</td>\n      <td>Cedarbrae</td>\n      <td>M1H</td>\n    </tr>\n    <tr>\n      <th>5</th>\n      <td>Scarborough</td>\n      <td>Scarborough Village</td>\n      <td>M1J</td>\n    </tr>\n    <tr>\n      <th>6</th>\n      <td>Scarborough</td>\n      <td>East Birchmount Park,Ionview,Kennedy Park</td>\n      <td>M1K</td>\n    </tr>\n    <tr>\n      <th>7</th>\n      <td>Scarborough</td>\n      <td>Clairlea,Golden Mile,Oakridge</td>\n      <td>M1L</td>\n    </tr>\n    <tr>\n      <th>8</th>\n      <td>Scarborough</td>\n      <td>Cliffcrest,Cliffside,Scarborough Village West</td>\n      <td>M1M</td>\n    </tr>\n    <tr>\n      <th>9</th>\n      <td>Scarborough</td>\n      <td>Birch Cliff,Cliffside West</td>\n      <td>M1N</td>\n    </tr>\n    <tr>\n      <th>10</th>\n      <td>Scarborough</td>\n      <td>Dorset Park,Scarborough Town Centre,Wexford He...</td>\n      <td>M1P</td>\n    </tr>\n    <tr>\n      <th>11</th>\n      <td>Scarborough</td>\n      <td>Maryvale,Wexford</td>\n      <td>M1R</td>\n    </tr>\n    <tr>\n      <th>12</th>\n      <td>Scarborough</td>\n      <td>Agincourt</td>\n      <td>M1S</td>\n    </tr>\n    <tr>\n      <th>13</th>\n      <td>Scarborough</td>\n      <td>Clarks Corners,Sullivan,Tam O'Shanter</td>\n      <td>M1T</td>\n    </tr>\n    <tr>\n      <th>14</th>\n      <td>Scarborough</td>\n      <td>Agincourt North,L'Amoreaux East,Milliken,Steel...</td>\n      <td>M1V</td>\n    </tr>\n    <tr>\n      <th>15</th>\n      <td>Scarborough</td>\n      <td>L'Amoreaux West,Steeles West</td>\n      <td>M1W</td>\n    </tr>\n    <tr>\n      <th>16</th>\n      <td>Scarborough</td>\n      <td>Upper Rouge</td>\n      <td>M1X</td>\n    </tr>\n    <tr>\n      <th>17</th>\n      <td>North York</td>\n      <td>Hillcrest Village</td>\n      <td>M2H</td>\n    </tr>\n    <tr>\n      <th>18</th>\n      <td>North York</td>\n      <td>Fairview,Henry Farm,Oriole</td>\n      <td>M2J</td>\n    </tr>\n    <tr>\n      <th>19</th>\n      <td>North York</td>\n      <td>Bayview Village</td>\n      <td>M2K</td>\n    </tr>\n    <tr>\n      <th>20</th>\n      <td>North York</td>\n      <td>Silver Hills,York Mills</td>\n      <td>M2L</td>\n    </tr>\n    <tr>\n      <th>21</th>\n      <td>North York</td>\n      <td>Newtonbrook,Willowdale</td>\n      <td>M2M</td>\n    </tr>\n    <tr>\n      <th>22</th>\n      <td>North York</td>\n      <td>Willowdale South</td>\n      <td>M2N</td>\n    </tr>\n    <tr>\n      <th>23</th>\n      <td>North York</td>\n      <td>York Mills West</td>\n      <td>M2P</td>\n    </tr>\n    <tr>\n      <th>24</th>\n      <td>North York</td>\n      <td>Willowdale West</td>\n      <td>M2R</td>\n    </tr>\n    <tr>\n      <th>25</th>\n      <td>North York</td>\n      <td>Parkwoods</td>\n      <td>M3A</td>\n    </tr>\n    <tr>\n      <th>26</th>\n      <td>North York</td>\n      <td>Don Mills North</td>\n      <td>M3B</td>\n    </tr>\n    <tr>\n      <th>27</th>\n      <td>North York</td>\n      <td>Flemingdon Park,Don Mills South</td>\n      <td>M3C</td>\n    </tr>\n    <tr>\n      <th>28</th>\n      <td>North York</td>\n      <td>Bathurst Manor,Downsview North,Wilson Heights</td>\n      <td>M3H</td>\n    </tr>\n    <tr>\n      <th>29</th>\n      <td>North York</td>\n      <td>Northwood Park,York University</td>\n      <td>M3J</td>\n    </tr>\n    <tr>\n      <th>...</th>\n      <td>...</td>\n      <td>...</td>\n      <td>...</td>\n    </tr>\n    <tr>\n      <th>73</th>\n      <td>York</td>\n      <td>Humewood-Cedarvale</td>\n      <td>M6C</td>\n    </tr>\n    <tr>\n      <th>74</th>\n      <td>York</td>\n      <td>Caledonia-Fairbanks</td>\n      <td>M6E</td>\n    </tr>\n    <tr>\n      <th>75</th>\n      <td>Downtown Toronto</td>\n      <td>Christie</td>\n      <td>M6G</td>\n    </tr>\n    <tr>\n      <th>76</th>\n      <td>West Toronto</td>\n      <td>Dovercourt Village,Dufferin</td>\n      <td>M6H</td>\n    </tr>\n    <tr>\n      <th>77</th>\n      <td>West Toronto</td>\n      <td>Little Portugal,Trinity</td>\n      <td>M6J</td>\n    </tr>\n    <tr>\n      <th>78</th>\n      <td>West Toronto</td>\n      <td>Brockton,Exhibition Place,Parkdale Village</td>\n      <td>M6K</td>\n    </tr>\n    <tr>\n      <th>79</th>\n      <td>North York</td>\n      <td>Maple Leaf Park,North Park,Upwood Park</td>\n      <td>M6L</td>\n    </tr>\n    <tr>\n      <th>80</th>\n      <td>York</td>\n      <td>Del Ray,Keelesdale,Mount Dennis,Silverthorn</td>\n      <td>M6M</td>\n    </tr>\n    <tr>\n      <th>81</th>\n      <td>York</td>\n      <td>The Junction North,Runnymede</td>\n      <td>M6N</td>\n    </tr>\n    <tr>\n      <th>82</th>\n      <td>West Toronto</td>\n      <td>High Park,The Junction South</td>\n      <td>M6P</td>\n    </tr>\n    <tr>\n      <th>83</th>\n      <td>West Toronto</td>\n      <td>Parkdale,Roncesvalles</td>\n      <td>M6R</td>\n    </tr>\n    <tr>\n      <th>84</th>\n      <td>West Toronto</td>\n      <td>Runnymede,Swansea</td>\n      <td>M6S</td>\n    </tr>\n    <tr>\n      <th>85</th>\n      <td>Queen's Park</td>\n      <td>Not assigned</td>\n      <td>M7A</td>\n    </tr>\n    <tr>\n      <th>86</th>\n      <td>Mississauga</td>\n      <td>Canada Post Gateway Processing Centre</td>\n      <td>M7R</td>\n    </tr>\n    <tr>\n      <th>87</th>\n      <td>East Toronto</td>\n      <td>Business Reply Mail Processing Centre 969 Eastern</td>\n      <td>M7Y</td>\n    </tr>\n    <tr>\n      <th>88</th>\n      <td>Etobicoke</td>\n      <td>Humber Bay Shores,Mimico South,New Toronto</td>\n      <td>M8V</td>\n    </tr>\n    <tr>\n      <th>89</th>\n      <td>Etobicoke</td>\n      <td>Alderwood,Long Branch</td>\n      <td>M8W</td>\n    </tr>\n    <tr>\n      <th>90</th>\n      <td>Etobicoke</td>\n      <td>The Kingsway,Montgomery Road,Old Mill North</td>\n      <td>M8X</td>\n    </tr>\n    <tr>\n      <th>91</th>\n      <td>Etobicoke</td>\n      <td>Humber Bay,King's Mill Park,Kingsway Park Sout...</td>\n      <td>M8Y</td>\n    </tr>\n    <tr>\n      <th>92</th>\n      <td>Etobicoke</td>\n      <td>Kingsway Park South West,Mimico NW,The Queensw...</td>\n      <td>M8Z</td>\n    </tr>\n    <tr>\n      <th>93</th>\n      <td>Etobicoke</td>\n      <td>Islington Avenue</td>\n      <td>M9A</td>\n    </tr>\n    <tr>\n      <th>94</th>\n      <td>Etobicoke</td>\n      <td>Cloverdale,Islington,Martin Grove,Princess Gar...</td>\n      <td>M9B</td>\n    </tr>\n    <tr>\n      <th>95</th>\n      <td>Etobicoke</td>\n      <td>Bloordale Gardens,Eringate,Markland Wood,Old B...</td>\n      <td>M9C</td>\n    </tr>\n    <tr>\n      <th>96</th>\n      <td>North York</td>\n      <td>Humber Summit</td>\n      <td>M9L</td>\n    </tr>\n    <tr>\n      <th>97</th>\n      <td>North York</td>\n      <td>Emery,Humberlea</td>\n      <td>M9M</td>\n    </tr>\n    <tr>\n      <th>98</th>\n      <td>York</td>\n      <td>Weston</td>\n      <td>M9N</td>\n    </tr>\n    <tr>\n      <th>99</th>\n      <td>Etobicoke</td>\n      <td>Westmount</td>\n      <td>M9P</td>\n    </tr>\n    <tr>\n      <th>100</th>\n      <td>Etobicoke</td>\n      <td>Kingsview Village,Martin Grove Gardens,Richvie...</td>\n      <td>M9R</td>\n    </tr>\n    <tr>\n      <th>101</th>\n      <td>Etobicoke</td>\n      <td>Albion Gardens,Beaumond Heights,Humbergate,Jam...</td>\n      <td>M9V</td>\n    </tr>\n    <tr>\n      <th>102</th>\n      <td>Etobicoke</td>\n      <td>Northwest</td>\n      <td>M9W</td>\n    </tr>\n  </tbody>\n</table>\n<p>103 rows \u00d7 3 columns</p>\n</div>", 
                        "text/plain": "              Borough                                       Neighborhood  \\\n0         Scarborough                                      Rouge,Malvern   \n1         Scarborough               Highland Creek,Rouge Hill,Port Union   \n2         Scarborough                    Guildwood,Morningside,West Hill   \n3         Scarborough                                             Woburn   \n4         Scarborough                                          Cedarbrae   \n5         Scarborough                                Scarborough Village   \n6         Scarborough          East Birchmount Park,Ionview,Kennedy Park   \n7         Scarborough                      Clairlea,Golden Mile,Oakridge   \n8         Scarborough      Cliffcrest,Cliffside,Scarborough Village West   \n9         Scarborough                         Birch Cliff,Cliffside West   \n10        Scarborough  Dorset Park,Scarborough Town Centre,Wexford He...   \n11        Scarborough                                   Maryvale,Wexford   \n12        Scarborough                                          Agincourt   \n13        Scarborough              Clarks Corners,Sullivan,Tam O'Shanter   \n14        Scarborough  Agincourt North,L'Amoreaux East,Milliken,Steel...   \n15        Scarborough                       L'Amoreaux West,Steeles West   \n16        Scarborough                                        Upper Rouge   \n17         North York                                  Hillcrest Village   \n18         North York                         Fairview,Henry Farm,Oriole   \n19         North York                                    Bayview Village   \n20         North York                            Silver Hills,York Mills   \n21         North York                             Newtonbrook,Willowdale   \n22         North York                                   Willowdale South   \n23         North York                                    York Mills West   \n24         North York                                    Willowdale West   \n25         North York                                          Parkwoods   \n26         North York                                    Don Mills North   \n27         North York                    Flemingdon Park,Don Mills South   \n28         North York      Bathurst Manor,Downsview North,Wilson Heights   \n29         North York                     Northwood Park,York University   \n..                ...                                                ...   \n73               York                                 Humewood-Cedarvale   \n74               York                                Caledonia-Fairbanks   \n75   Downtown Toronto                                           Christie   \n76       West Toronto                        Dovercourt Village,Dufferin   \n77       West Toronto                            Little Portugal,Trinity   \n78       West Toronto         Brockton,Exhibition Place,Parkdale Village   \n79         North York             Maple Leaf Park,North Park,Upwood Park   \n80               York        Del Ray,Keelesdale,Mount Dennis,Silverthorn   \n81               York                       The Junction North,Runnymede   \n82       West Toronto                       High Park,The Junction South   \n83       West Toronto                              Parkdale,Roncesvalles   \n84       West Toronto                                  Runnymede,Swansea   \n85       Queen's Park                                       Not assigned   \n86        Mississauga              Canada Post Gateway Processing Centre   \n87       East Toronto  Business Reply Mail Processing Centre 969 Eastern   \n88          Etobicoke         Humber Bay Shores,Mimico South,New Toronto   \n89          Etobicoke                              Alderwood,Long Branch   \n90          Etobicoke        The Kingsway,Montgomery Road,Old Mill North   \n91          Etobicoke  Humber Bay,King's Mill Park,Kingsway Park Sout...   \n92          Etobicoke  Kingsway Park South West,Mimico NW,The Queensw...   \n93          Etobicoke                                   Islington Avenue   \n94          Etobicoke  Cloverdale,Islington,Martin Grove,Princess Gar...   \n95          Etobicoke  Bloordale Gardens,Eringate,Markland Wood,Old B...   \n96         North York                                      Humber Summit   \n97         North York                                    Emery,Humberlea   \n98               York                                             Weston   \n99          Etobicoke                                          Westmount   \n100         Etobicoke  Kingsview Village,Martin Grove Gardens,Richvie...   \n101         Etobicoke  Albion Gardens,Beaumond Heights,Humbergate,Jam...   \n102         Etobicoke                                          Northwest   \n\n    PostalCode  \n0          M1B  \n1          M1C  \n2          M1E  \n3          M1G  \n4          M1H  \n5          M1J  \n6          M1K  \n7          M1L  \n8          M1M  \n9          M1N  \n10         M1P  \n11         M1R  \n12         M1S  \n13         M1T  \n14         M1V  \n15         M1W  \n16         M1X  \n17         M2H  \n18         M2J  \n19         M2K  \n20         M2L  \n21         M2M  \n22         M2N  \n23         M2P  \n24         M2R  \n25         M3A  \n26         M3B  \n27         M3C  \n28         M3H  \n29         M3J  \n..         ...  \n73         M6C  \n74         M6E  \n75         M6G  \n76         M6H  \n77         M6J  \n78         M6K  \n79         M6L  \n80         M6M  \n81         M6N  \n82         M6P  \n83         M6R  \n84         M6S  \n85         M7A  \n86         M7R  \n87         M7Y  \n88         M8V  \n89         M8W  \n90         M8X  \n91         M8Y  \n92         M8Z  \n93         M9A  \n94         M9B  \n95         M9C  \n96         M9L  \n97         M9M  \n98         M9N  \n99         M9P  \n100        M9R  \n101        M9V  \n102        M9W  \n\n[103 rows x 3 columns]"
                    }, 
                    "output_type": "execute_result"
                }
            ], 
            "source": "aggregate_fun = {'PostalCode': 'first',\n                 \"Borough\": 'first', \n                 \"Neighborhood\": lambda col: ','.join(col)}\ndf_new = df.groupby(df['PostalCode']).aggregate(aggregate_fun)\n\ndf_new.reset_index(drop=True, inplace=True)\n#df_new"
        }, 
        {
            "execution_count": 14, 
            "cell_type": "code", 
            "metadata": {}, 
            "outputs": [], 
            "source": "for index, row in df_new.iterrows():\n    if (row.Neighborhood) == 'Not assigned':\n        row.Neighborhood = row.Borough\n"
        }, 
        {
            "execution_count": 15, 
            "cell_type": "code", 
            "metadata": {}, 
            "outputs": [
                {
                    "output_type": "stream", 
                    "name": "stdout", 
                    "text": "Borough         Queen's Park\nNeighborhood    Queen's Park\nPostalCode               M7A\nName: 85, dtype: object\n"
                }
            ], 
            "source": "print(df_new.iloc[85])"
        }, 
        {
            "source": "### The shape of List of postal codes of Canada", 
            "cell_type": "markdown", 
            "metadata": {}
        }, 
        {
            "execution_count": 18, 
            "cell_type": "code", 
            "metadata": {}, 
            "outputs": [
                {
                    "execution_count": 18, 
                    "metadata": {}, 
                    "data": {
                        "text/plain": "(103, 3)"
                    }, 
                    "output_type": "execute_result"
                }
            ], 
            "source": "df_new.shape"
        }, 
        {
            "execution_count": null, 
            "cell_type": "code", 
            "metadata": {}, 
            "outputs": [], 
            "source": ""
        }
    ], 
    "metadata": {
        "kernelspec": {
            "display_name": "Python 3.5", 
            "name": "python3", 
            "language": "python"
        }, 
        "language_info": {
            "mimetype": "text/x-python", 
            "nbconvert_exporter": "python", 
            "version": "3.5.5", 
            "name": "python", 
            "file_extension": ".py", 
            "pygments_lexer": "ipython3", 
            "codemirror_mode": {
                "version": 3, 
                "name": "ipython"
            }
        }
    }, 
    "nbformat": 4
}