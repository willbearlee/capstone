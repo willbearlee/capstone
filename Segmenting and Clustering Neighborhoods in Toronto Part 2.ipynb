{
    "nbformat_minor": 1, 
    "cells": [
        {
            "execution_count": 1, 
            "cell_type": "code", 
            "metadata": {}, 
            "outputs": [], 
            "source": "from bs4 import BeautifulSoup\nimport requests\nimport numpy as np\nimport pandas as pd"
        }, 
        {
            "source": "### Get information from Wiki", 
            "cell_type": "markdown", 
            "metadata": {}
        }, 
        {
            "execution_count": 2, 
            "cell_type": "code", 
            "metadata": {}, 
            "outputs": [], 
            "source": "source = requests.get('https://en.wikipedia.org/wiki/List_of_postal_codes_of_Canada:_M').text   \nsoup = BeautifulSoup(source, 'html.parser')"
        }, 
        {
            "execution_count": 3, 
            "cell_type": "code", 
            "metadata": {}, 
            "outputs": [], 
            "source": "PostalCodeList = []\nBoroughList = []\nNeighborhoodList = []\ntbody = soup.find('tbody')"
        }, 
        {
            "source": "### Collect the Data", 
            "cell_type": "markdown", 
            "metadata": {}
        }, 
        {
            "execution_count": 4, 
            "cell_type": "code", 
            "metadata": {}, 
            "outputs": [], 
            "source": "for index, value in enumerate(tbody.find_all('td')):\n    if (index%3 == 0):\n        PostalCodeList.append(value.text.strip())\n    elif(index%3 == 1):\n        BoroughList.append(value.text.strip())\n    else:\n        NeighborhoodList.append(value.text.strip())\ndataDic = { \"PostalCode\":PostalCodeList, \"Borough\":BoroughList, \"Neighborhood\": NeighborhoodList }"
        }, 
        {
            "source": "### Translate to DataFrame", 
            "cell_type": "markdown", 
            "metadata": {}
        }, 
        {
            "execution_count": 5, 
            "cell_type": "code", 
            "metadata": {}, 
            "outputs": [
                {
                    "output_type": "stream", 
                    "name": "stdout", 
                    "text": "            Borough      Neighborhood PostalCode\n0      Not assigned      Not assigned        M1A\n1      Not assigned      Not assigned        M2A\n2        North York         Parkwoods        M3A\n3        North York  Victoria Village        M4A\n4  Downtown Toronto      Harbourfront        M5A\n"
                }
            ], 
            "source": "df = pd.DataFrame.from_dict(dataDic)\nprint( df.head() )"
        }, 
        {
            "source": "### Remove column if Boroug is \"Not assigned\"", 
            "cell_type": "markdown", 
            "metadata": {}
        }, 
        {
            "execution_count": 6, 
            "cell_type": "code", 
            "metadata": {}, 
            "outputs": [
                {
                    "output_type": "stream", 
                    "name": "stdout", 
                    "text": "            Borough      Neighborhood PostalCode\n0        North York         Parkwoods        M3A\n1        North York  Victoria Village        M4A\n2  Downtown Toronto      Harbourfront        M5A\n3  Downtown Toronto       Regent Park        M5A\n4        North York  Lawrence Heights        M6A\n"
                }
            ], 
            "source": "df = df[df.Borough != 'Not assigned']\ndf.reset_index(drop=True, inplace=True)\nprint( df.head() )"
        }, 
        {
            "execution_count": 7, 
            "cell_type": "code", 
            "metadata": {}, 
            "outputs": [], 
            "source": "aggregate_fun = {'PostalCode': 'first',\n                 \"Borough\": 'first', \n                 \"Neighborhood\": lambda col: ','.join(col)}\ndf_new = df.groupby(df['PostalCode']).aggregate(aggregate_fun)\n\ndf_new.reset_index(drop=True, inplace=True)\n#df_new"
        }, 
        {
            "execution_count": 8, 
            "cell_type": "code", 
            "metadata": {}, 
            "outputs": [], 
            "source": "for index, row in df_new.iterrows():\n    if (row.Neighborhood) == 'Not assigned':\n        row.Neighborhood = row.Borough\n"
        }, 
        {
            "execution_count": 9, 
            "cell_type": "code", 
            "metadata": {}, 
            "outputs": [
                {
                    "output_type": "stream", 
                    "name": "stdout", 
                    "text": "Neighborhood    Queen's Park\nBorough         Queen's Park\nPostalCode               M7A\nName: 85, dtype: object\n"
                }
            ], 
            "source": "print(df_new.iloc[85])"
        }, 
        {
            "source": "### The shape of List of postal codes of Canada", 
            "cell_type": "markdown", 
            "metadata": {}
        }, 
        {
            "execution_count": 15, 
            "cell_type": "code", 
            "metadata": {}, 
            "outputs": [
                {
                    "execution_count": 15, 
                    "metadata": {}, 
                    "data": {
                        "text/plain": "(103, 3)"
                    }, 
                    "output_type": "execute_result"
                }
            ], 
            "source": "df_new.shape"
        }, 
        {
            "source": "### Get the atitude and the longitude coordinates  by geocoder", 
            "cell_type": "markdown", 
            "metadata": {}
        }, 
        {
            "execution_count": 14, 
            "cell_type": "code", 
            "metadata": {}, 
            "outputs": [
                {
                    "ename": "ImportError", 
                    "evalue": "No module named 'geocoder'", 
                    "traceback": [
                        "\u001b[0;31m---------------------------------------------------------------------------\u001b[0m", 
                        "\u001b[0;31mImportError\u001b[0m                               Traceback (most recent call last)", 
                        "\u001b[0;32m<ipython-input-14-f9a1a3d479bb>\u001b[0m in \u001b[0;36m<module>\u001b[0;34m()\u001b[0m\n\u001b[0;32m----> 1\u001b[0;31m \u001b[0;32mimport\u001b[0m \u001b[0mgeocoder\u001b[0m \u001b[0;31m# import geocoder\u001b[0m\u001b[0;34m\u001b[0m\u001b[0m\n\u001b[0m\u001b[1;32m      2\u001b[0m \u001b[0;34m\u001b[0m\u001b[0m\n\u001b[1;32m      3\u001b[0m \u001b[0;31m# initialize your variable to None\u001b[0m\u001b[0;34m\u001b[0m\u001b[0;34m\u001b[0m\u001b[0m\n\u001b[1;32m      4\u001b[0m \u001b[0mlat_lng_coords\u001b[0m \u001b[0;34m=\u001b[0m \u001b[0;32mNone\u001b[0m\u001b[0;34m\u001b[0m\u001b[0m\n\u001b[1;32m      5\u001b[0m \u001b[0;34m\u001b[0m\u001b[0m\n", 
                        "\u001b[0;31mImportError\u001b[0m: No module named 'geocoder'"
                    ], 
                    "output_type": "error"
                }
            ], 
            "source": "http://cocl.us/Geospatial_data"
        }, 
        {
            "execution_count": 16, 
            "cell_type": "code", 
            "metadata": {}, 
            "outputs": [
                {
                    "output_type": "stream", 
                    "name": "stdout", 
                    "text": "--2019-03-11 07:32:22--  http://cocl.us/Geospatial_data\nResolving cocl.us (cocl.us)... 159.8.72.228\nConnecting to cocl.us (cocl.us)|159.8.72.228|:80... connected.\nHTTP request sent, awaiting response... 301 Moved Permanently\nLocation: https://cocl.us/Geospatial_data [following]\n--2019-03-11 07:32:22--  https://cocl.us/Geospatial_data\nConnecting to cocl.us (cocl.us)|159.8.72.228|:443... connected.\nHTTP request sent, awaiting response... 301 Moved Permanently\nLocation: https://ibm.box.com/shared/static/9afzr83pps4pwf2smjjcf1y5mvgb18rr.csv [following]\n--2019-03-11 07:32:23--  https://ibm.box.com/shared/static/9afzr83pps4pwf2smjjcf1y5mvgb18rr.csv\nResolving ibm.box.com (ibm.box.com)... 107.152.24.197, 107.152.25.197\nConnecting to ibm.box.com (ibm.box.com)|107.152.24.197|:443... connected.\nHTTP request sent, awaiting response... 301 Moved Permanently\nLocation: /public/static/9afzr83pps4pwf2smjjcf1y5mvgb18rr.csv [following]\n--2019-03-11 07:32:23--  https://ibm.box.com/public/static/9afzr83pps4pwf2smjjcf1y5mvgb18rr.csv\nReusing existing connection to ibm.box.com:443.\nHTTP request sent, awaiting response... 301 Moved Permanently\nLocation: https://ibm.ent.box.com/public/static/9afzr83pps4pwf2smjjcf1y5mvgb18rr.csv [following]\n--2019-03-11 07:32:23--  https://ibm.ent.box.com/public/static/9afzr83pps4pwf2smjjcf1y5mvgb18rr.csv\nResolving ibm.ent.box.com (ibm.ent.box.com)... 107.152.26.211\nConnecting to ibm.ent.box.com (ibm.ent.box.com)|107.152.26.211|:443... connected.\nHTTP request sent, awaiting response... 302 Found\nLocation: https://public.boxcloud.com/d/1/b1!_UgD1D4BmFnSkpPu2IQs7GlMPLgf-AE7hjtSv3SKWNdF1OcQlSk4ro-O9bYOZl3RswBCQ1EzFco1KXlGfbQ7p-h8DPRavGEmJ_TfQO_PPEEZBUmONiOuo79B3ZOdOfgmXbffliHglcjuSmUBTovNfb4Yip6vNZJJZMTBzBuMV3jGrS0BX6zB3xn9Aorc4dFy5TS-XIc7E_r9v-cyqgAOJcTb9hPBqfxTFz5K8bbGt5Qst_9jvALqygO8W3NifShOUDQI_84MVK2saI-Bv_i3DLlLQwlXMO4KI8XpjGnXte4N1rXlBCQc7oT_Qel5XMikIb-9VOmV-xF5VU8sEVGT9Ma9mvQiRhOXG-3AFY9FvS1FoNlR7rr788neJfRsCoOwYzTFAa4BAHDMkiMZuFEx8V-Dxb2aNHEfZwcQ-DPRvd6b13D8GgfjfHVGlIlBnIhzyMaluFp4Y9FUvWaSEIAOpWunymOs2IYvQ1w3B34FYttDihwBRN8fOawAyiESUgy9w1TqxUt-z9SVcneCafB5e9loloU3FAFJ7i6DZqLdRhSB6a4_shpsZEHm9d2PtvQdbNyYecp13OOn4GH3wikrENLaj6VpoRo5NfxluIh7VoFiNqJELiYDQlYIWez9nGyHYX0pJnEFRdDQ60LQ4NrIyDs5bQ-YgQD_w-PmAUsdsnFkFOkmI6U6ORR31zuQqRu3zavxNB7PuqBOXH-7T9Snki1p1PcDdGFqSWDSqCowMbU1qqZXK1TsPYqkrsWP11EQdg0PIu2eRR6ONkPFdnkW7tc12vtwTJEG0qh4EfniZ5wfkjbEgXTRhgFLNs0SbtdrYCPglhfoRdfZGXKdihdHybhfR32q5MGpZt9v6f74O0AY6qEWcU2my8sIcj9sIqNb945BcbdnKdBRkEAkSV7oLtnEBVtYdXTCpj7Igk88_gUdWi71mBxJLsx2KsWgWmIi6wOC6ImjRjjXdUy9wkzlwz1D2FJ9KHTwSEpGf4UCoiwEGgtArhnkxF3Q0MyvsYB0qD87W9-7adMMq7M8dt3HE-GKUzYmJRykGoh2RmTPHQ6_MnFN2OgEeenIylkeebusggTlDJiyU2P-E3gz9UUyXsXW3e0DnhyMZ2hz9wTZTn45L0vhTjT-dGHFD12TZ4qj987BrUJWFpnVWATP7itBg_izjAwfoD3lT0CEUtEnQ6YZk21BEbS7KLY7moOeRJKTjIeQgf7AcSS_JAL8WGGxuR7sQiUodjeFNbOEEPd8XELn1Swj5Ot2G9Ldhg0FBhQ7QOt-7yFEidrXfjK_Cfv3p1e8tOEf5xwymSbLVnpbCwnHMiQ4QO2Hyp5nSEYwViVCYME2fAqsZfZpOVDKWxUJXvI-562eBVIwMaMHJeHG1IAvKQgbYixS6OeTJ4p0QKElEXzTuvxMbk1DUSQeMJ-he3gsAjFHkc53GPIDMkUpGrAYjlM-/download [following]\n--2019-03-11 07:32:24--  https://public.boxcloud.com/d/1/b1!_UgD1D4BmFnSkpPu2IQs7GlMPLgf-AE7hjtSv3SKWNdF1OcQlSk4ro-O9bYOZl3RswBCQ1EzFco1KXlGfbQ7p-h8DPRavGEmJ_TfQO_PPEEZBUmONiOuo79B3ZOdOfgmXbffliHglcjuSmUBTovNfb4Yip6vNZJJZMTBzBuMV3jGrS0BX6zB3xn9Aorc4dFy5TS-XIc7E_r9v-cyqgAOJcTb9hPBqfxTFz5K8bbGt5Qst_9jvALqygO8W3NifShOUDQI_84MVK2saI-Bv_i3DLlLQwlXMO4KI8XpjGnXte4N1rXlBCQc7oT_Qel5XMikIb-9VOmV-xF5VU8sEVGT9Ma9mvQiRhOXG-3AFY9FvS1FoNlR7rr788neJfRsCoOwYzTFAa4BAHDMkiMZuFEx8V-Dxb2aNHEfZwcQ-DPRvd6b13D8GgfjfHVGlIlBnIhzyMaluFp4Y9FUvWaSEIAOpWunymOs2IYvQ1w3B34FYttDihwBRN8fOawAyiESUgy9w1TqxUt-z9SVcneCafB5e9loloU3FAFJ7i6DZqLdRhSB6a4_shpsZEHm9d2PtvQdbNyYecp13OOn4GH3wikrENLaj6VpoRo5NfxluIh7VoFiNqJELiYDQlYIWez9nGyHYX0pJnEFRdDQ60LQ4NrIyDs5bQ-YgQD_w-PmAUsdsnFkFOkmI6U6ORR31zuQqRu3zavxNB7PuqBOXH-7T9Snki1p1PcDdGFqSWDSqCowMbU1qqZXK1TsPYqkrsWP11EQdg0PIu2eRR6ONkPFdnkW7tc12vtwTJEG0qh4EfniZ5wfkjbEgXTRhgFLNs0SbtdrYCPglhfoRdfZGXKdihdHybhfR32q5MGpZt9v6f74O0AY6qEWcU2my8sIcj9sIqNb945BcbdnKdBRkEAkSV7oLtnEBVtYdXTCpj7Igk88_gUdWi71mBxJLsx2KsWgWmIi6wOC6ImjRjjXdUy9wkzlwz1D2FJ9KHTwSEpGf4UCoiwEGgtArhnkxF3Q0MyvsYB0qD87W9-7adMMq7M8dt3HE-GKUzYmJRykGoh2RmTPHQ6_MnFN2OgEeenIylkeebusggTlDJiyU2P-E3gz9UUyXsXW3e0DnhyMZ2hz9wTZTn45L0vhTjT-dGHFD12TZ4qj987BrUJWFpnVWATP7itBg_izjAwfoD3lT0CEUtEnQ6YZk21BEbS7KLY7moOeRJKTjIeQgf7AcSS_JAL8WGGxuR7sQiUodjeFNbOEEPd8XELn1Swj5Ot2G9Ldhg0FBhQ7QOt-7yFEidrXfjK_Cfv3p1e8tOEf5xwymSbLVnpbCwnHMiQ4QO2Hyp5nSEYwViVCYME2fAqsZfZpOVDKWxUJXvI-562eBVIwMaMHJeHG1IAvKQgbYixS6OeTJ4p0QKElEXzTuvxMbk1DUSQeMJ-he3gsAjFHkc53GPIDMkUpGrAYjlM-/download\nResolving public.boxcloud.com (public.boxcloud.com)... 107.152.26.200\nConnecting to public.boxcloud.com (public.boxcloud.com)|107.152.26.200|:443... connected.\nHTTP request sent, awaiting response... 200 OK\nLength: 2891 (2.8K) [text/csv]\nSaving to: \u2018geospatial.csv\u2019\n\n100%[======================================>] 2,891       --.-K/s   in 0s      \n\n2019-03-11 07:32:25 (465 MB/s) - \u2018geospatial.csv\u2019 saved [2891/2891]\n\n"
                }
            ], 
            "source": "!wget -O geospatial.csv http://cocl.us/Geospatial_data"
        }, 
        {
            "execution_count": 37, 
            "cell_type": "code", 
            "metadata": {}, 
            "outputs": [
                {
                    "execution_count": 37, 
                    "metadata": {}, 
                    "data": {
                        "text/html": "<div>\n<style scoped>\n    .dataframe tbody tr th:only-of-type {\n        vertical-align: middle;\n    }\n\n    .dataframe tbody tr th {\n        vertical-align: top;\n    }\n\n    .dataframe thead th {\n        text-align: right;\n    }\n</style>\n<table border=\"1\" class=\"dataframe\">\n  <thead>\n    <tr style=\"text-align: right;\">\n      <th></th>\n      <th>Latitude</th>\n      <th>Longitude</th>\n      <th>PostalCode</th>\n    </tr>\n  </thead>\n  <tbody>\n    <tr>\n      <th>0</th>\n      <td>43.806686</td>\n      <td>-79.194353</td>\n      <td>M1B</td>\n    </tr>\n    <tr>\n      <th>1</th>\n      <td>43.784535</td>\n      <td>-79.160497</td>\n      <td>M1C</td>\n    </tr>\n    <tr>\n      <th>2</th>\n      <td>43.763573</td>\n      <td>-79.188711</td>\n      <td>M1E</td>\n    </tr>\n    <tr>\n      <th>3</th>\n      <td>43.770992</td>\n      <td>-79.216917</td>\n      <td>M1G</td>\n    </tr>\n    <tr>\n      <th>4</th>\n      <td>43.773136</td>\n      <td>-79.239476</td>\n      <td>M1H</td>\n    </tr>\n  </tbody>\n</table>\n</div>", 
                        "text/plain": "    Latitude  Longitude PostalCode\n0  43.806686 -79.194353        M1B\n1  43.784535 -79.160497        M1C\n2  43.763573 -79.188711        M1E\n3  43.770992 -79.216917        M1G\n4  43.773136 -79.239476        M1H"
                    }, 
                    "output_type": "execute_result"
                }
            ], 
            "source": "df_geo = pd.read_csv('geospatial.csv')\ndf_geo['PostalCode'] = df_geo['Postal Code']\ndf_geo_new = df_geo.drop(['Postal Code'], axis=1)\ndf_geo_new.head()\n"
        }, 
        {
            "execution_count": 38, 
            "cell_type": "code", 
            "metadata": {}, 
            "outputs": [
                {
                    "execution_count": 38, 
                    "metadata": {}, 
                    "data": {
                        "text/html": "<div>\n<style scoped>\n    .dataframe tbody tr th:only-of-type {\n        vertical-align: middle;\n    }\n\n    .dataframe tbody tr th {\n        vertical-align: top;\n    }\n\n    .dataframe thead th {\n        text-align: right;\n    }\n</style>\n<table border=\"1\" class=\"dataframe\">\n  <thead>\n    <tr style=\"text-align: right;\">\n      <th></th>\n      <th>Latitude</th>\n      <th>Longitude</th>\n    </tr>\n    <tr>\n      <th>PostalCode</th>\n      <th></th>\n      <th></th>\n    </tr>\n  </thead>\n  <tbody>\n    <tr>\n      <th>M1B</th>\n      <td>43.806686</td>\n      <td>-79.194353</td>\n    </tr>\n    <tr>\n      <th>M1C</th>\n      <td>43.784535</td>\n      <td>-79.160497</td>\n    </tr>\n    <tr>\n      <th>M1E</th>\n      <td>43.763573</td>\n      <td>-79.188711</td>\n    </tr>\n    <tr>\n      <th>M1G</th>\n      <td>43.770992</td>\n      <td>-79.216917</td>\n    </tr>\n    <tr>\n      <th>M1H</th>\n      <td>43.773136</td>\n      <td>-79.239476</td>\n    </tr>\n  </tbody>\n</table>\n</div>", 
                        "text/plain": "             Latitude  Longitude\nPostalCode                      \nM1B         43.806686 -79.194353\nM1C         43.784535 -79.160497\nM1E         43.763573 -79.188711\nM1G         43.770992 -79.216917\nM1H         43.773136 -79.239476"
                    }, 
                    "output_type": "execute_result"
                }
            ], 
            "source": "df_geo_new_index = df_geo_new.set_index('PostalCode')\ndf_geo_new_index.head()"
        }, 
        {
            "execution_count": 39, 
            "cell_type": "code", 
            "metadata": {}, 
            "outputs": [
                {
                    "execution_count": 39, 
                    "metadata": {}, 
                    "data": {
                        "text/html": "<div>\n<style scoped>\n    .dataframe tbody tr th:only-of-type {\n        vertical-align: middle;\n    }\n\n    .dataframe tbody tr th {\n        vertical-align: top;\n    }\n\n    .dataframe thead th {\n        text-align: right;\n    }\n</style>\n<table border=\"1\" class=\"dataframe\">\n  <thead>\n    <tr style=\"text-align: right;\">\n      <th></th>\n      <th>Neighborhood</th>\n      <th>Borough</th>\n      <th>PostalCode</th>\n      <th>Latitude</th>\n      <th>Longitude</th>\n    </tr>\n  </thead>\n  <tbody>\n    <tr>\n      <th>0</th>\n      <td>Rouge,Malvern</td>\n      <td>Scarborough</td>\n      <td>M1B</td>\n      <td>43.806686</td>\n      <td>-79.194353</td>\n    </tr>\n    <tr>\n      <th>1</th>\n      <td>Highland Creek,Rouge Hill,Port Union</td>\n      <td>Scarborough</td>\n      <td>M1C</td>\n      <td>43.784535</td>\n      <td>-79.160497</td>\n    </tr>\n    <tr>\n      <th>2</th>\n      <td>Guildwood,Morningside,West Hill</td>\n      <td>Scarborough</td>\n      <td>M1E</td>\n      <td>43.763573</td>\n      <td>-79.188711</td>\n    </tr>\n    <tr>\n      <th>3</th>\n      <td>Woburn</td>\n      <td>Scarborough</td>\n      <td>M1G</td>\n      <td>43.770992</td>\n      <td>-79.216917</td>\n    </tr>\n    <tr>\n      <th>4</th>\n      <td>Cedarbrae</td>\n      <td>Scarborough</td>\n      <td>M1H</td>\n      <td>43.773136</td>\n      <td>-79.239476</td>\n    </tr>\n    <tr>\n      <th>5</th>\n      <td>Scarborough Village</td>\n      <td>Scarborough</td>\n      <td>M1J</td>\n      <td>43.744734</td>\n      <td>-79.239476</td>\n    </tr>\n    <tr>\n      <th>6</th>\n      <td>East Birchmount Park,Ionview,Kennedy Park</td>\n      <td>Scarborough</td>\n      <td>M1K</td>\n      <td>43.727929</td>\n      <td>-79.262029</td>\n    </tr>\n    <tr>\n      <th>7</th>\n      <td>Clairlea,Golden Mile,Oakridge</td>\n      <td>Scarborough</td>\n      <td>M1L</td>\n      <td>43.711112</td>\n      <td>-79.284577</td>\n    </tr>\n    <tr>\n      <th>8</th>\n      <td>Cliffcrest,Cliffside,Scarborough Village West</td>\n      <td>Scarborough</td>\n      <td>M1M</td>\n      <td>43.716316</td>\n      <td>-79.239476</td>\n    </tr>\n    <tr>\n      <th>9</th>\n      <td>Birch Cliff,Cliffside West</td>\n      <td>Scarborough</td>\n      <td>M1N</td>\n      <td>43.692657</td>\n      <td>-79.264848</td>\n    </tr>\n    <tr>\n      <th>10</th>\n      <td>Dorset Park,Scarborough Town Centre,Wexford He...</td>\n      <td>Scarborough</td>\n      <td>M1P</td>\n      <td>43.757410</td>\n      <td>-79.273304</td>\n    </tr>\n    <tr>\n      <th>11</th>\n      <td>Maryvale,Wexford</td>\n      <td>Scarborough</td>\n      <td>M1R</td>\n      <td>43.750072</td>\n      <td>-79.295849</td>\n    </tr>\n    <tr>\n      <th>12</th>\n      <td>Agincourt</td>\n      <td>Scarborough</td>\n      <td>M1S</td>\n      <td>43.794200</td>\n      <td>-79.262029</td>\n    </tr>\n    <tr>\n      <th>13</th>\n      <td>Clarks Corners,Sullivan,Tam O'Shanter</td>\n      <td>Scarborough</td>\n      <td>M1T</td>\n      <td>43.781638</td>\n      <td>-79.304302</td>\n    </tr>\n    <tr>\n      <th>14</th>\n      <td>Agincourt North,L'Amoreaux East,Milliken,Steel...</td>\n      <td>Scarborough</td>\n      <td>M1V</td>\n      <td>43.815252</td>\n      <td>-79.284577</td>\n    </tr>\n    <tr>\n      <th>15</th>\n      <td>L'Amoreaux West,Steeles West</td>\n      <td>Scarborough</td>\n      <td>M1W</td>\n      <td>43.799525</td>\n      <td>-79.318389</td>\n    </tr>\n    <tr>\n      <th>16</th>\n      <td>Upper Rouge</td>\n      <td>Scarborough</td>\n      <td>M1X</td>\n      <td>43.836125</td>\n      <td>-79.205636</td>\n    </tr>\n    <tr>\n      <th>17</th>\n      <td>Hillcrest Village</td>\n      <td>North York</td>\n      <td>M2H</td>\n      <td>43.803762</td>\n      <td>-79.363452</td>\n    </tr>\n    <tr>\n      <th>18</th>\n      <td>Fairview,Henry Farm,Oriole</td>\n      <td>North York</td>\n      <td>M2J</td>\n      <td>43.778517</td>\n      <td>-79.346556</td>\n    </tr>\n    <tr>\n      <th>19</th>\n      <td>Bayview Village</td>\n      <td>North York</td>\n      <td>M2K</td>\n      <td>43.786947</td>\n      <td>-79.385975</td>\n    </tr>\n    <tr>\n      <th>20</th>\n      <td>Silver Hills,York Mills</td>\n      <td>North York</td>\n      <td>M2L</td>\n      <td>43.757490</td>\n      <td>-79.374714</td>\n    </tr>\n    <tr>\n      <th>21</th>\n      <td>Newtonbrook,Willowdale</td>\n      <td>North York</td>\n      <td>M2M</td>\n      <td>43.789053</td>\n      <td>-79.408493</td>\n    </tr>\n    <tr>\n      <th>22</th>\n      <td>Willowdale South</td>\n      <td>North York</td>\n      <td>M2N</td>\n      <td>43.770120</td>\n      <td>-79.408493</td>\n    </tr>\n    <tr>\n      <th>23</th>\n      <td>York Mills West</td>\n      <td>North York</td>\n      <td>M2P</td>\n      <td>43.752758</td>\n      <td>-79.400049</td>\n    </tr>\n    <tr>\n      <th>24</th>\n      <td>Willowdale West</td>\n      <td>North York</td>\n      <td>M2R</td>\n      <td>43.782736</td>\n      <td>-79.442259</td>\n    </tr>\n    <tr>\n      <th>25</th>\n      <td>Parkwoods</td>\n      <td>North York</td>\n      <td>M3A</td>\n      <td>43.753259</td>\n      <td>-79.329656</td>\n    </tr>\n    <tr>\n      <th>26</th>\n      <td>Don Mills North</td>\n      <td>North York</td>\n      <td>M3B</td>\n      <td>43.745906</td>\n      <td>-79.352188</td>\n    </tr>\n    <tr>\n      <th>27</th>\n      <td>Flemingdon Park,Don Mills South</td>\n      <td>North York</td>\n      <td>M3C</td>\n      <td>43.725900</td>\n      <td>-79.340923</td>\n    </tr>\n    <tr>\n      <th>28</th>\n      <td>Bathurst Manor,Downsview North,Wilson Heights</td>\n      <td>North York</td>\n      <td>M3H</td>\n      <td>43.754328</td>\n      <td>-79.442259</td>\n    </tr>\n    <tr>\n      <th>29</th>\n      <td>Northwood Park,York University</td>\n      <td>North York</td>\n      <td>M3J</td>\n      <td>43.767980</td>\n      <td>-79.487262</td>\n    </tr>\n    <tr>\n      <th>...</th>\n      <td>...</td>\n      <td>...</td>\n      <td>...</td>\n      <td>...</td>\n      <td>...</td>\n    </tr>\n    <tr>\n      <th>73</th>\n      <td>Humewood-Cedarvale</td>\n      <td>York</td>\n      <td>M6C</td>\n      <td>43.693781</td>\n      <td>-79.428191</td>\n    </tr>\n    <tr>\n      <th>74</th>\n      <td>Caledonia-Fairbanks</td>\n      <td>York</td>\n      <td>M6E</td>\n      <td>43.689026</td>\n      <td>-79.453512</td>\n    </tr>\n    <tr>\n      <th>75</th>\n      <td>Christie</td>\n      <td>Downtown Toronto</td>\n      <td>M6G</td>\n      <td>43.669542</td>\n      <td>-79.422564</td>\n    </tr>\n    <tr>\n      <th>76</th>\n      <td>Dovercourt Village,Dufferin</td>\n      <td>West Toronto</td>\n      <td>M6H</td>\n      <td>43.669005</td>\n      <td>-79.442259</td>\n    </tr>\n    <tr>\n      <th>77</th>\n      <td>Little Portugal,Trinity</td>\n      <td>West Toronto</td>\n      <td>M6J</td>\n      <td>43.647927</td>\n      <td>-79.419750</td>\n    </tr>\n    <tr>\n      <th>78</th>\n      <td>Brockton,Exhibition Place,Parkdale Village</td>\n      <td>West Toronto</td>\n      <td>M6K</td>\n      <td>43.636847</td>\n      <td>-79.428191</td>\n    </tr>\n    <tr>\n      <th>79</th>\n      <td>Maple Leaf Park,North Park,Upwood Park</td>\n      <td>North York</td>\n      <td>M6L</td>\n      <td>43.713756</td>\n      <td>-79.490074</td>\n    </tr>\n    <tr>\n      <th>80</th>\n      <td>Del Ray,Keelesdale,Mount Dennis,Silverthorn</td>\n      <td>York</td>\n      <td>M6M</td>\n      <td>43.691116</td>\n      <td>-79.476013</td>\n    </tr>\n    <tr>\n      <th>81</th>\n      <td>The Junction North,Runnymede</td>\n      <td>York</td>\n      <td>M6N</td>\n      <td>43.673185</td>\n      <td>-79.487262</td>\n    </tr>\n    <tr>\n      <th>82</th>\n      <td>High Park,The Junction South</td>\n      <td>West Toronto</td>\n      <td>M6P</td>\n      <td>43.661608</td>\n      <td>-79.464763</td>\n    </tr>\n    <tr>\n      <th>83</th>\n      <td>Parkdale,Roncesvalles</td>\n      <td>West Toronto</td>\n      <td>M6R</td>\n      <td>43.648960</td>\n      <td>-79.456325</td>\n    </tr>\n    <tr>\n      <th>84</th>\n      <td>Runnymede,Swansea</td>\n      <td>West Toronto</td>\n      <td>M6S</td>\n      <td>43.651571</td>\n      <td>-79.484450</td>\n    </tr>\n    <tr>\n      <th>85</th>\n      <td>Queen's Park</td>\n      <td>Queen's Park</td>\n      <td>M7A</td>\n      <td>43.662301</td>\n      <td>-79.389494</td>\n    </tr>\n    <tr>\n      <th>86</th>\n      <td>Canada Post Gateway Processing Centre</td>\n      <td>Mississauga</td>\n      <td>M7R</td>\n      <td>43.636966</td>\n      <td>-79.615819</td>\n    </tr>\n    <tr>\n      <th>87</th>\n      <td>Business Reply Mail Processing Centre 969 Eastern</td>\n      <td>East Toronto</td>\n      <td>M7Y</td>\n      <td>43.662744</td>\n      <td>-79.321558</td>\n    </tr>\n    <tr>\n      <th>88</th>\n      <td>Humber Bay Shores,Mimico South,New Toronto</td>\n      <td>Etobicoke</td>\n      <td>M8V</td>\n      <td>43.605647</td>\n      <td>-79.501321</td>\n    </tr>\n    <tr>\n      <th>89</th>\n      <td>Alderwood,Long Branch</td>\n      <td>Etobicoke</td>\n      <td>M8W</td>\n      <td>43.602414</td>\n      <td>-79.543484</td>\n    </tr>\n    <tr>\n      <th>90</th>\n      <td>The Kingsway,Montgomery Road,Old Mill North</td>\n      <td>Etobicoke</td>\n      <td>M8X</td>\n      <td>43.653654</td>\n      <td>-79.506944</td>\n    </tr>\n    <tr>\n      <th>91</th>\n      <td>Humber Bay,King's Mill Park,Kingsway Park Sout...</td>\n      <td>Etobicoke</td>\n      <td>M8Y</td>\n      <td>43.636258</td>\n      <td>-79.498509</td>\n    </tr>\n    <tr>\n      <th>92</th>\n      <td>Kingsway Park South West,Mimico NW,The Queensw...</td>\n      <td>Etobicoke</td>\n      <td>M8Z</td>\n      <td>43.628841</td>\n      <td>-79.520999</td>\n    </tr>\n    <tr>\n      <th>93</th>\n      <td>Islington Avenue</td>\n      <td>Etobicoke</td>\n      <td>M9A</td>\n      <td>43.667856</td>\n      <td>-79.532242</td>\n    </tr>\n    <tr>\n      <th>94</th>\n      <td>Cloverdale,Islington,Martin Grove,Princess Gar...</td>\n      <td>Etobicoke</td>\n      <td>M9B</td>\n      <td>43.650943</td>\n      <td>-79.554724</td>\n    </tr>\n    <tr>\n      <th>95</th>\n      <td>Bloordale Gardens,Eringate,Markland Wood,Old B...</td>\n      <td>Etobicoke</td>\n      <td>M9C</td>\n      <td>43.643515</td>\n      <td>-79.577201</td>\n    </tr>\n    <tr>\n      <th>96</th>\n      <td>Humber Summit</td>\n      <td>North York</td>\n      <td>M9L</td>\n      <td>43.756303</td>\n      <td>-79.565963</td>\n    </tr>\n    <tr>\n      <th>97</th>\n      <td>Emery,Humberlea</td>\n      <td>North York</td>\n      <td>M9M</td>\n      <td>43.724766</td>\n      <td>-79.532242</td>\n    </tr>\n    <tr>\n      <th>98</th>\n      <td>Weston</td>\n      <td>York</td>\n      <td>M9N</td>\n      <td>43.706876</td>\n      <td>-79.518188</td>\n    </tr>\n    <tr>\n      <th>99</th>\n      <td>Westmount</td>\n      <td>Etobicoke</td>\n      <td>M9P</td>\n      <td>43.696319</td>\n      <td>-79.532242</td>\n    </tr>\n    <tr>\n      <th>100</th>\n      <td>Kingsview Village,Martin Grove Gardens,Richvie...</td>\n      <td>Etobicoke</td>\n      <td>M9R</td>\n      <td>43.688905</td>\n      <td>-79.554724</td>\n    </tr>\n    <tr>\n      <th>101</th>\n      <td>Albion Gardens,Beaumond Heights,Humbergate,Jam...</td>\n      <td>Etobicoke</td>\n      <td>M9V</td>\n      <td>43.739416</td>\n      <td>-79.588437</td>\n    </tr>\n    <tr>\n      <th>102</th>\n      <td>Northwest</td>\n      <td>Etobicoke</td>\n      <td>M9W</td>\n      <td>43.706748</td>\n      <td>-79.594054</td>\n    </tr>\n  </tbody>\n</table>\n<p>103 rows \u00d7 5 columns</p>\n</div>", 
                        "text/plain": "                                          Neighborhood           Borough  \\\n0                                        Rouge,Malvern       Scarborough   \n1                 Highland Creek,Rouge Hill,Port Union       Scarborough   \n2                      Guildwood,Morningside,West Hill       Scarborough   \n3                                               Woburn       Scarborough   \n4                                            Cedarbrae       Scarborough   \n5                                  Scarborough Village       Scarborough   \n6            East Birchmount Park,Ionview,Kennedy Park       Scarborough   \n7                        Clairlea,Golden Mile,Oakridge       Scarborough   \n8        Cliffcrest,Cliffside,Scarborough Village West       Scarborough   \n9                           Birch Cliff,Cliffside West       Scarborough   \n10   Dorset Park,Scarborough Town Centre,Wexford He...       Scarborough   \n11                                    Maryvale,Wexford       Scarborough   \n12                                           Agincourt       Scarborough   \n13               Clarks Corners,Sullivan,Tam O'Shanter       Scarborough   \n14   Agincourt North,L'Amoreaux East,Milliken,Steel...       Scarborough   \n15                        L'Amoreaux West,Steeles West       Scarborough   \n16                                         Upper Rouge       Scarborough   \n17                                   Hillcrest Village        North York   \n18                          Fairview,Henry Farm,Oriole        North York   \n19                                     Bayview Village        North York   \n20                             Silver Hills,York Mills        North York   \n21                              Newtonbrook,Willowdale        North York   \n22                                    Willowdale South        North York   \n23                                     York Mills West        North York   \n24                                     Willowdale West        North York   \n25                                           Parkwoods        North York   \n26                                     Don Mills North        North York   \n27                     Flemingdon Park,Don Mills South        North York   \n28       Bathurst Manor,Downsview North,Wilson Heights        North York   \n29                      Northwood Park,York University        North York   \n..                                                 ...               ...   \n73                                  Humewood-Cedarvale              York   \n74                                 Caledonia-Fairbanks              York   \n75                                            Christie  Downtown Toronto   \n76                         Dovercourt Village,Dufferin      West Toronto   \n77                             Little Portugal,Trinity      West Toronto   \n78          Brockton,Exhibition Place,Parkdale Village      West Toronto   \n79              Maple Leaf Park,North Park,Upwood Park        North York   \n80         Del Ray,Keelesdale,Mount Dennis,Silverthorn              York   \n81                        The Junction North,Runnymede              York   \n82                        High Park,The Junction South      West Toronto   \n83                               Parkdale,Roncesvalles      West Toronto   \n84                                   Runnymede,Swansea      West Toronto   \n85                                        Queen's Park      Queen's Park   \n86               Canada Post Gateway Processing Centre       Mississauga   \n87   Business Reply Mail Processing Centre 969 Eastern      East Toronto   \n88          Humber Bay Shores,Mimico South,New Toronto         Etobicoke   \n89                               Alderwood,Long Branch         Etobicoke   \n90         The Kingsway,Montgomery Road,Old Mill North         Etobicoke   \n91   Humber Bay,King's Mill Park,Kingsway Park Sout...         Etobicoke   \n92   Kingsway Park South West,Mimico NW,The Queensw...         Etobicoke   \n93                                    Islington Avenue         Etobicoke   \n94   Cloverdale,Islington,Martin Grove,Princess Gar...         Etobicoke   \n95   Bloordale Gardens,Eringate,Markland Wood,Old B...         Etobicoke   \n96                                       Humber Summit        North York   \n97                                     Emery,Humberlea        North York   \n98                                              Weston              York   \n99                                           Westmount         Etobicoke   \n100  Kingsview Village,Martin Grove Gardens,Richvie...         Etobicoke   \n101  Albion Gardens,Beaumond Heights,Humbergate,Jam...         Etobicoke   \n102                                          Northwest         Etobicoke   \n\n    PostalCode   Latitude  Longitude  \n0          M1B  43.806686 -79.194353  \n1          M1C  43.784535 -79.160497  \n2          M1E  43.763573 -79.188711  \n3          M1G  43.770992 -79.216917  \n4          M1H  43.773136 -79.239476  \n5          M1J  43.744734 -79.239476  \n6          M1K  43.727929 -79.262029  \n7          M1L  43.711112 -79.284577  \n8          M1M  43.716316 -79.239476  \n9          M1N  43.692657 -79.264848  \n10         M1P  43.757410 -79.273304  \n11         M1R  43.750072 -79.295849  \n12         M1S  43.794200 -79.262029  \n13         M1T  43.781638 -79.304302  \n14         M1V  43.815252 -79.284577  \n15         M1W  43.799525 -79.318389  \n16         M1X  43.836125 -79.205636  \n17         M2H  43.803762 -79.363452  \n18         M2J  43.778517 -79.346556  \n19         M2K  43.786947 -79.385975  \n20         M2L  43.757490 -79.374714  \n21         M2M  43.789053 -79.408493  \n22         M2N  43.770120 -79.408493  \n23         M2P  43.752758 -79.400049  \n24         M2R  43.782736 -79.442259  \n25         M3A  43.753259 -79.329656  \n26         M3B  43.745906 -79.352188  \n27         M3C  43.725900 -79.340923  \n28         M3H  43.754328 -79.442259  \n29         M3J  43.767980 -79.487262  \n..         ...        ...        ...  \n73         M6C  43.693781 -79.428191  \n74         M6E  43.689026 -79.453512  \n75         M6G  43.669542 -79.422564  \n76         M6H  43.669005 -79.442259  \n77         M6J  43.647927 -79.419750  \n78         M6K  43.636847 -79.428191  \n79         M6L  43.713756 -79.490074  \n80         M6M  43.691116 -79.476013  \n81         M6N  43.673185 -79.487262  \n82         M6P  43.661608 -79.464763  \n83         M6R  43.648960 -79.456325  \n84         M6S  43.651571 -79.484450  \n85         M7A  43.662301 -79.389494  \n86         M7R  43.636966 -79.615819  \n87         M7Y  43.662744 -79.321558  \n88         M8V  43.605647 -79.501321  \n89         M8W  43.602414 -79.543484  \n90         M8X  43.653654 -79.506944  \n91         M8Y  43.636258 -79.498509  \n92         M8Z  43.628841 -79.520999  \n93         M9A  43.667856 -79.532242  \n94         M9B  43.650943 -79.554724  \n95         M9C  43.643515 -79.577201  \n96         M9L  43.756303 -79.565963  \n97         M9M  43.724766 -79.532242  \n98         M9N  43.706876 -79.518188  \n99         M9P  43.696319 -79.532242  \n100        M9R  43.688905 -79.554724  \n101        M9V  43.739416 -79.588437  \n102        M9W  43.706748 -79.594054  \n\n[103 rows x 5 columns]"
                    }, 
                    "output_type": "execute_result"
                }
            ], 
            "source": "result = df_new.join(df_geo_new_index, on='PostalCode')\nresult"
        }, 
        {
            "execution_count": null, 
            "cell_type": "code", 
            "metadata": {}, 
            "outputs": [], 
            "source": ""
        }
    ], 
    "metadata": {
        "kernelspec": {
            "display_name": "Python 3.5", 
            "name": "python3", 
            "language": "python"
        }, 
        "language_info": {
            "mimetype": "text/x-python", 
            "nbconvert_exporter": "python", 
            "version": "3.5.5", 
            "name": "python", 
            "file_extension": ".py", 
            "pygments_lexer": "ipython3", 
            "codemirror_mode": {
                "version": 3, 
                "name": "ipython"
            }
        }
    }, 
    "nbformat": 4
}